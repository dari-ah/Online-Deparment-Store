{
    "metadata": {
        "kernelspec": {
            "name": "SQL",
            "display_name": "SQL",
            "language": "sql"
        },
        "language_info": {
            "name": "sql",
            "version": ""
        }
    },
    "nbformat_minor": 2,
    "nbformat": 4,
    "cells": [
        {
            "cell_type": "markdown",
            "source": [
                "<span style=\"background-color: rgb(255, 255, 254);\">F</span><span style=\"background-color: rgb(255, 255, 255); font-size: 11pt; font-family: ArialMT;\">ind the info</span> <span style=\"background-color: rgb(255, 255, 255); font-size: 11pt; font-family: ArialMT;\">of each buyers' most recent purchase</span> <span style=\"background-color: rgb(255, 255, 255); font-family: ArialMT; font-size: 14.6667px;\">in 2021</span>"
            ],
            "metadata": {
                "azdata_cell_guid": "2b44f6fb-0240-4230-b9af-16fb5c2c74a6"
            },
            "attachments": {}
        },
        {
            "cell_type": "code",
            "source": [
                "SELECT p1.Buyer_ID, p1.Purchase_ID, p1.Purchase_Date, p1.Purchase_Amount \n",
                "FROM Purchases_Project..Purchases p1 \n",
                "JOIN (SELECT Buyer_ID, MAX(DAY(Purchase_Date)) AS maxday, \n",
                "      MAX(MONTH(Purchase_Date)) AS maxmonth\n",
                "      FROM Purchases_Project..Purchases\n",
                "      GROUP BY Buyer_ID) p2\n",
                "    ON p1.Buyer_Id = p2.Buyer_ID \n",
                "--make sure that all elements of the date match\n",
                "WHERE DAY(p1.Purchase_Date) = p2.maxday \n",
                "AND MONTH(p1.Purchase_Date) = p2.maxmonth \n",
                "AND YEAR(p1.Purchase_Date) = 2021;"
            ],
            "metadata": {
                "azdata_cell_guid": "5db3f606-f287-4681-96ec-76eaa9fdfa91",
                "tags": [
                    "hide_input"
                ],
                "language": "sql"
            },
            "outputs": [],
            "execution_count": null
        },
        {
            "cell_type": "markdown",
            "source": [
                "Top 20 buyers in 2021"
            ],
            "metadata": {
                "language": "sql",
                "azdata_cell_guid": "4611887a-f371-4d3d-9380-0ebf519e257e"
            },
            "attachments": {}
        },
        {
            "cell_type": "code",
            "source": [
                "SELECT TOP (20) Buyer_ID, COUNT(Purchase_Date) AS Purchases_Time\n",
                "FROM Purchases_Project..Purchases\n",
                "GROUP BY Buyer_ID\n",
                "ORDER BY 2 DESC;"
            ],
            "metadata": {
                "language": "sql",
                "azdata_cell_guid": "2092874c-c3fc-4c0a-9c9f-cca6f5402caf",
                "tags": [
                    "hide_input"
                ]
            },
            "outputs": [],
            "execution_count": null
        },
        {
            "cell_type": "markdown",
            "source": [
                "Best selling items and wost selling items in 2021"
            ],
            "metadata": {
                "azdata_cell_guid": "052e2908-f0ac-4d15-a600-8b9f870c27ea"
            },
            "attachments": {}
        },
        {
            "cell_type": "code",
            "source": [
                "--best selling items\n",
                "    --find the the total amount of purchase date for each item\n",
                "/*\n",
                "SELECT Product, COUNT(Purchase_Date) AS Highest_Purchases_Time\n",
                "FROM Purchases_Project..Purchases\n",
                "GROUP BY Product\n",
                "ORDER BY 2 DESC;\n",
                "*/\n",
                "    --find the highest purchases times\n",
                "WITH Total_time AS (\n",
                "    SELECT Product, COUNT(Purchase_Date) AS Purchases_Time\n",
                "    FROM Purchases_Project..Purchases\n",
                "    GROUP BY Product\n",
                ")\n",
                "        --have to use a subquery table, then match the total time together\n",
                "SELECT Total_time.Product, l.Item_Category, Purchases_Time\n",
                "FROM Total_time,\n",
                "     (SELECT MAX(Purchases_Time) AS Highest_Purchases_Time\n",
                "      FROM Total_time) hp, Purchases_Project..Listing l\n",
                "WHERE Total_time.Purchases_Time = hp.Highest_Purchases_Time\n",
                "AND l.Product = Total_time.Product;\n",
                "\n",
                ""
            ],
            "metadata": {
                "azdata_cell_guid": "014b5ded-0107-4678-abc1-9a8b069abacf",
                "tags": [
                    "hide_input"
                ],
                "language": "sql"
            },
            "outputs": [],
            "execution_count": null
        },
        {
            "cell_type": "code",
            "source": [
                "--what is the percentage of those items in each category\n",
                "WITH Total_time AS (\n",
                "    SELECT Product, COUNT(Purchase_Date) AS Purchases_Time\n",
                "    FROM Purchases_Project..Purchases\n",
                "    GROUP BY Product\n",
                ")\n",
                "SELECT l.Item_Category,\n",
                "       ((CONVERT(float, COUNT(Total_time.Product)) / 25.0) * 100) AS Category_Percentage,\n",
                "       Total_time.Purchases_Time\n",
                "FROM Total_time,\n",
                "     (SELECT MAX(Purchases_Time) AS Highest_Purchases_Time\n",
                "      FROM Total_time) hp, \n",
                "     Purchases_Project..Listing l\n",
                "WHERE Total_time.Purchases_Time = hp.Highest_Purchases_Time\n",
                "AND l.Product = Total_time.Product\n",
                "GROUP BY l.Item_Category, Total_time.Purchases_Time;"
            ],
            "metadata": {
                "language": "sql",
                "azdata_cell_guid": "fbd84b04-073d-487c-909e-a9ac1a54ef89",
                "tags": [
                    "hide_input"
                ]
            },
            "outputs": [],
            "execution_count": null
        },
        {
            "cell_type": "code",
            "source": [
                "--Worst selling products (not being purchased in 2021 at all)\n",
                "SELECT Product, Item_Category, COUNT(Purchase_Date) AS Purchases_Time \n",
                "FROM Purchases_Project..Listing\n",
                "GROUP BY Product, Item_Category\n",
                "HAVING COUNT(Purchase_Date) = 0;"
            ],
            "metadata": {
                "azdata_cell_guid": "a93099fa-9d50-4d05-b24e-143f12e1bbea",
                "tags": [
                    "hide_input"
                ],
                "language": "sql"
            },
            "outputs": [],
            "execution_count": null
        },
        {
            "cell_type": "code",
            "source": [
                "--what is the percentage of those items in each category\n",
                "WITH worst_sell AS (\n",
                "    SELECT Product, Item_Category, COUNT(Purchase_Date) AS Purchases_Time, \n",
                "           COUNT(Product) OVER() AS Total_Product \n",
                "    FROM Purchases_Project..Listing\n",
                "    GROUP BY Product, Item_Category\n",
                "    HAVING COUNT(Purchase_Date) = 0\n",
                ")\n",
                "SELECT Item_Category, \n",
                "       ROUND(((CONVERT(float, COUNT(Product))/Total_Product) * 100), 3) AS Category_Percentage,\n",
                "       worst_sell.Purchases_Time\n",
                "FROM worst_sell\n",
                "GROUP BY Item_Category, Total_Product, worst_sell.Purchases_Time"
            ],
            "metadata": {
                "language": "sql",
                "azdata_cell_guid": "2f5eb1b8-322e-4e70-9f70-fa8012040f19",
                "tags": [
                    "hide_input"
                ]
            },
            "outputs": [],
            "execution_count": null
        },
        {
            "cell_type": "markdown",
            "source": [
                "Best selling and worst selling categories"
            ],
            "metadata": {
                "azdata_cell_guid": "c19cebf1-6ad0-49fe-920b-f0c5a7990fa8"
            },
            "attachments": {}
        },
        {
            "cell_type": "code",
            "source": [
                "--Best selling categories\n",
                "    --count the purchases time and group by category\n",
                "/*\n",
                "SELECT Item_Category, COUNT(Purchase_Date) AS Purchase_Time\n",
                "FROM Purchases_Project..Listing\n",
                "GROUP BY Item_Category\n",
                "ORDER BY 2 DESC;\n",
                "*/\n",
                "WITH purchase_time AS (\n",
                "    SELECT Item_Category, COUNT(Purchase_Date) AS Purchases_Time\n",
                "    FROM Purchases_Project..Listing\n",
                "    GROUP BY Item_Category\n",
                ")\n",
                "SELECT Item_Category, Purchases_Time\n",
                "FROM purchase_time,\n",
                "     (SELECT MAX(Purchases_Time) AS Highest_Purchases_Time\n",
                "      FROM purchase_time) hp\n",
                "WHERE purchase_time.Purchases_Time = hp.Highest_Purchases_Time;\n",
                ""
            ],
            "metadata": {
                "azdata_cell_guid": "46a81a1c-689b-489d-bd9d-309cbfd38f0b",
                "tags": [
                    "hide_input"
                ],
                "language": "sql"
            },
            "outputs": [],
            "execution_count": null
        },
        {
            "cell_type": "code",
            "source": [
                "--Wost selling categories\n",
                "WITH purchase_time AS (\n",
                "    SELECT Item_Category, COUNT(Purchase_Date) AS Purchases_Time\n",
                "    FROM Purchases_Project..Listing\n",
                "    GROUP BY Item_Category\n",
                ")\n",
                "SELECT Item_Category, Purchases_Time\n",
                "FROM purchase_time,\n",
                "     (SELECT MIN(Purchases_Time) AS Lowest_Purchases_Time\n",
                "      FROM purchase_time) hp\n",
                "WHERE purchase_time.Purchases_Time = hp.Lowest_Purchases_Time;\n",
                "--double check\n",
                "/*\n",
                "SELECT Item_Category, COUNT(Purchase_Date) AS Purchase_Time\n",
                "FROM Purchases_Project..Listing\n",
                "GROUP BY Item_Category\n",
                "ORDER BY 2 ASC;\n",
                "*/"
            ],
            "metadata": {
                "azdata_cell_guid": "0813203a-ec62-4984-86d9-0523aaa3c84c",
                "tags": [
                    "hide_input"
                ],
                "language": "sql"
            },
            "outputs": [],
            "execution_count": null
        },
        {
            "cell_type": "markdown",
            "source": [
                "What is average purchase ammount of each category?"
            ],
            "metadata": {
                "azdata_cell_guid": "55375f42-3f6e-43c9-968a-3811faa537ca"
            },
            "attachments": {}
        },
        {
            "cell_type": "code",
            "source": [
                "--join purchase and listing table then find avg\n",
                "WITH info_table AS (\n",
                "    SELECT l.Item_Category, p.Purchase_Amount\n",
                "    FROM Purchases_Project..Purchases p\n",
                "    FULL OUTER JOIN Purchases_Project..Listing l\n",
                "        ON p.Product = l.Product\n",
                ")\n",
                "SELECT Item_Category, AVG(Purchase_Amount) AS Average_Amount\n",
                "FROM info_table\n",
                "GROUP BY Item_Category\n",
                "ORDER BY 2 DESC\n",
                ""
            ],
            "metadata": {
                "azdata_cell_guid": "0e724f6d-cfd3-4476-8d66-a9cc32057216",
                "tags": [
                    "hide_input"
                ],
                "language": "sql"
            },
            "outputs": [],
            "execution_count": null
        },
        {
            "cell_type": "markdown",
            "source": [
                "Highest rating items and lowest rating items in 2021"
            ],
            "metadata": {
                "azdata_cell_guid": "08c78112-c87a-4314-95f5-4b324d98f60a"
            },
            "attachments": {}
        },
        {
            "cell_type": "code",
            "source": [
                "--highest rating\n",
                "SELECT Product, Item_Category, Subcategory_1, Subcategory_2,\n",
                "       General_Rating AS Highest_Rating\n",
                "FROM Purchases_Project..Listing\n",
                "WHERE General_Rating = (SELECT MAX(General_Rating)\n",
                "                        FROM Purchases_Project..Listing)\n",
                "GROUP BY Product, Item_Category, Subcategory_1, Subcategory_2, General_Rating;\n",
                ""
            ],
            "metadata": {
                "azdata_cell_guid": "bb1bf23e-f8ce-4bba-9d12-a1f54124483d",
                "tags": [
                    "hide_input"
                ],
                "language": "sql"
            },
            "outputs": [],
            "execution_count": null
        },
        {
            "cell_type": "code",
            "source": [
                "--lowest rating\n",
                "SELECT Product, Item_Category, Subcategory_1, Subcategory_2,\n",
                "       General_Rating AS Lowest_Rating\n",
                "FROM Purchases_Project..Listing\n",
                "WHERE General_Rating = (SELECT MIN(General_Rating)\n",
                "                        FROM Purchases_Project..Listing)\n",
                "GROUP BY Product, Item_Category, Subcategory_1, Subcategory_2, General_Rating;"
            ],
            "metadata": {
                "azdata_cell_guid": "eb175114-1622-4e8d-884e-4cad37232b34",
                "tags": [
                    "hide_input"
                ],
                "language": "sql"
            },
            "outputs": [],
            "execution_count": null
        },
        {
            "cell_type": "markdown",
            "source": [
                "Best selling seller and worst selling seller"
            ],
            "metadata": {
                "azdata_cell_guid": "36faaacd-2310-4107-b050-cfde913a4496"
            },
            "attachments": {}
        },
        {
            "cell_type": "code",
            "source": [
                "--Best seller\n",
                "/*\n",
                "SELECT Seller_ID, COUNT(Purchase_Date) AS Purchases_Time\n",
                "FROM Purchases_Project..Purchases\n",
                "GROUP BY Seller_ID\n",
                "ORDER BY 2 DESC;\n",
                "*/\n",
                "WITH Total_time AS (\n",
                "    SELECT Seller_ID, COUNT(Purchase_Date) AS Highest_Purchased_Time\n",
                "    FROM Purchases_Project..Purchases\n",
                "    GROUP BY Seller_ID\n",
                ")\n",
                "        --have to use a subquery table, then match the total time together\n",
                "SELECT Seller_ID, Highest_Purchased_Time\n",
                "FROM Total_time,\n",
                "     (SELECT MAX(Highest_Purchased_Time) AS High_Purchased_Time\n",
                "      FROM Total_time) hp\n",
                "WHERE Total_time.Highest_Purchased_Time = hp.High_Purchased_Time;"
            ],
            "metadata": {
                "azdata_cell_guid": "b113fbc4-67fd-4c46-83fa-8030286b5aef",
                "tags": [
                    "hide_input"
                ],
                "language": "sql"
            },
            "outputs": [],
            "execution_count": null
        },
        {
            "cell_type": "code",
            "source": [
                "--Worst seller\n",
                "SELECT Seller_ID, COUNT(Purchase_Date) AS Lowest_Purchased_Time\n",
                "FROM Purchases_Project..Listing\n",
                "GROUP BY Seller_ID\n",
                "HAVING COUNT(Purchase_Date) = 0;"
            ],
            "metadata": {
                "azdata_cell_guid": "419965cf-7096-4c58-b83a-f4042656ecab",
                "tags": [
                    "hide_input"
                ],
                "language": "sql"
            },
            "outputs": [],
            "execution_count": null
        },
        {
            "cell_type": "code",
            "source": [
                "--for visualize\n",
                "SELECT Seller_ID, COUNT(Purchase_Date) AS Purchased_Time\n",
                "FROM Purchases_Project..Purchases\n",
                "GROUP BY Seller_ID\n",
                "ORDER BY 2 DESC;"
            ],
            "metadata": {
                "language": "sql",
                "azdata_cell_guid": "e0e420a6-e202-40a4-80d6-7f1c5627a506",
                "tags": [
                    "hide_input"
                ]
            },
            "outputs": [],
            "execution_count": null
        },
        {
            "cell_type": "markdown",
            "source": [
                "Total revenue of each seller in 2021"
            ],
            "metadata": {
                "azdata_cell_guid": "70147a24-eb69-41e0-81a0-308cfa6706d4"
            },
            "attachments": {}
        },
        {
            "cell_type": "code",
            "source": [
                "--total revenue of the year\n",
                "SELECT SUM(Purchase_Amount) AS total_purchase\n",
                "FROM Purchases_Project..Purchases;\n",
                "\n",
                "--total seller\n",
                "SELECT COUNT(Seller_ID) AS total_seller\n",
                "FROM Purchases_Project..Listing\n",
                ""
            ],
            "metadata": {
                "language": "sql",
                "azdata_cell_guid": "60655c51-9f5e-4d7e-b82b-ec59fa340380",
                "tags": [
                    "hide_input"
                ]
            },
            "outputs": [],
            "execution_count": null
        },
        {
            "cell_type": "code",
            "source": [
                "--sum for all sellers who were bought from\n",
                "/*\n",
                "SELECT Seller_ID, SUM(Purchase_Amount) AS total_purchased\n",
                "FROM Purchases_Project..Purchases\n",
                "GROUP BY Seller_ID\n",
                "ORDER BY 2 DESC;\n",
                "*/\n",
                "\n",
                "--sum for all sellers\n",
                "    --join two table\n",
                "WITH seller AS (\n",
                "SELECT l.Seller_ID, p.Purchase_Amount, l.Purchase_Date\n",
                "FROM Purchases_Project..Purchases p\n",
                "FULL OUTER JOIN Purchases_Project..Listing l\n",
                "    ON p.Product = l.Product\n",
                ")\n",
                "SELECT Seller_ID, SUM(ISNULL(Purchase_Amount, 0)) AS total_purchased\n",
                "FROM seller\n",
                "GROUP BY Seller_ID\n",
                "ORDER BY 2;"
            ],
            "metadata": {
                "azdata_cell_guid": "fdf50f72-a32b-46d1-8412-412bcd745261",
                "tags": [
                    "hide_input"
                ],
                "language": "sql"
            },
            "outputs": [],
            "execution_count": null
        },
        {
            "cell_type": "markdown",
            "source": [
                " <span style=\"font-family: ArialMT; font-size: 11pt; background-color: rgb(255, 255, 255);\">&nbsp;How many buyers purchased from more than 1 departments in 2021?</span>"
            ],
            "metadata": {
                "azdata_cell_guid": "4ea96b76-4503-4302-b5d2-b58559df85c7"
            },
            "attachments": {}
        },
        {
            "cell_type": "code",
            "source": [
                "WITH buyer_table AS(\n",
                "    SELECT p.Buyer_ID, l.Item_Category\n",
                "    FROM Purchases_Project..Purchases p \n",
                "    JOIN Purchases_Project..Buyers b\n",
                "        ON b.Buyer_ID = p.Buyer_ID\n",
                "    JOIN Purchases_Project..Listing l \n",
                "        ON p.Product = l.Product\n",
                ")\n",
                "SELECT COUNT(*) AS Amount_Buyers \n",
                "FROM (SELECT Buyer_ID \n",
                "      FROM (SELECT Buyer_ID, COUNT(Buyer_ID) AS buyer \n",
                "            FROM buyer_table\n",
                "            GROUP BY Buyer_ID) b\n",
                "      WHERE b.buyer > 1) total;"
            ],
            "metadata": {
                "azdata_cell_guid": "ae02aca5-d398-48ce-862b-a1a7e72cb1c8",
                "tags": [
                    "hide_input"
                ],
                "language": "sql"
            },
            "outputs": [],
            "execution_count": null
        },
        {
            "cell_type": "markdown",
            "source": [
                " <span style=\"font-size: 11.000000pt; font-family: 'ArialMT'\">&nbsp;What was the total purchase amount of all departments for buyers in 2021&nbsp;</span> <span style=\"font-family: ArialMT; font-size: 14.6667px;\">who spent the highest amount in \"clothing\" ?</span>"
            ],
            "metadata": {
                "azdata_cell_guid": "7f75ac9a-73c7-4f18-83de-9ed5e215c25c"
            },
            "attachments": {}
        },
        {
            "cell_type": "code",
            "source": [
                "WITH purchase_table AS(\n",
                "    SELECT p.Buyer_ID, SUM(p.Purchase_Amount) AS total_purchase\n",
                "    FROM Purchases_Project..Purchases p\n",
                "    JOIN Purchases_Project..Listing l\n",
                "        ON p.Product = l.Product\n",
                "        AND l.Item_Category LIKE '%clothing%'\n",
                "    GROUP BY Buyer_ID) \n",
                "SELECT purchase_table.Buyer_ID, SUM(p.Purchase_Amount) AS total_purchase_amount\n",
                "FROM purchase_table\n",
                "JOIN Purchases_Project..Purchases p \n",
                "    ON purchase_table.Buyer_ID = p.Buyer_ID\n",
                "WHERE purchase_table.total_purchase = (SELECT MAX(total_purchase)\n",
                "                                       FROM purchase_table) \n",
                "GROUP BY purchase_table.Buyer_ID;"
            ],
            "metadata": {
                "azdata_cell_guid": "a984f111-d020-430e-8488-2208302b4cc5",
                "tags": [
                    "hide_input"
                ],
                "language": "sql"
            },
            "outputs": [],
            "execution_count": null
        }
    ]
}